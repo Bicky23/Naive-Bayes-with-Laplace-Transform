{
 "cells": [
  {
   "cell_type": "code",
   "execution_count": 1,
   "metadata": {},
   "outputs": [],
   "source": [
    "# Import necessary packages\n",
    "\n",
    "import pandas as pd\n",
    "import numpy as np \n",
    "from collections import Counter"
   ]
  },
  {
   "cell_type": "code",
   "execution_count": 2,
   "metadata": {
    "scrolled": true
   },
   "outputs": [
    {
     "data": {
      "text/html": [
       "<div>\n",
       "<style scoped>\n",
       "    .dataframe tbody tr th:only-of-type {\n",
       "        vertical-align: middle;\n",
       "    }\n",
       "\n",
       "    .dataframe tbody tr th {\n",
       "        vertical-align: top;\n",
       "    }\n",
       "\n",
       "    .dataframe thead th {\n",
       "        text-align: right;\n",
       "    }\n",
       "</style>\n",
       "<table border=\"1\" class=\"dataframe\">\n",
       "  <thead>\n",
       "    <tr style=\"text-align: right;\">\n",
       "      <th></th>\n",
       "      <th>Outlook</th>\n",
       "      <th>Temp.</th>\n",
       "      <th>Humidity</th>\n",
       "      <th>Windy</th>\n",
       "      <th>Play</th>\n",
       "    </tr>\n",
       "  </thead>\n",
       "  <tbody>\n",
       "    <tr>\n",
       "      <th>0</th>\n",
       "      <td>sunny</td>\n",
       "      <td>hot</td>\n",
       "      <td>high</td>\n",
       "      <td>false</td>\n",
       "      <td>no</td>\n",
       "    </tr>\n",
       "    <tr>\n",
       "      <th>1</th>\n",
       "      <td>sunny</td>\n",
       "      <td>hot</td>\n",
       "      <td>high</td>\n",
       "      <td>true</td>\n",
       "      <td>no</td>\n",
       "    </tr>\n",
       "    <tr>\n",
       "      <th>2</th>\n",
       "      <td>overcast</td>\n",
       "      <td>hot</td>\n",
       "      <td>high</td>\n",
       "      <td>false</td>\n",
       "      <td>yes</td>\n",
       "    </tr>\n",
       "    <tr>\n",
       "      <th>3</th>\n",
       "      <td>rainy</td>\n",
       "      <td>mild</td>\n",
       "      <td>high</td>\n",
       "      <td>false</td>\n",
       "      <td>yes</td>\n",
       "    </tr>\n",
       "    <tr>\n",
       "      <th>4</th>\n",
       "      <td>rainy</td>\n",
       "      <td>cool</td>\n",
       "      <td>normal</td>\n",
       "      <td>false</td>\n",
       "      <td>yes</td>\n",
       "    </tr>\n",
       "  </tbody>\n",
       "</table>\n",
       "</div>"
      ],
      "text/plain": [
       "    Outlook Temp. Humidity   Windy Play\n",
       "0     sunny   hot     high  false    no\n",
       "1     sunny   hot     high   true    no\n",
       "2  overcast   hot     high  false   yes\n",
       "3     rainy  mild     high  false   yes\n",
       "4     rainy  cool   normal  false   yes"
      ]
     },
     "execution_count": 2,
     "metadata": {},
     "output_type": "execute_result"
    }
   ],
   "source": [
    "# Load dataset\n",
    "\n",
    "df = pd.read_csv('Q2-tennis.csv')\n",
    "df.head()"
   ]
  },
  {
   "cell_type": "code",
   "execution_count": 3,
   "metadata": {},
   "outputs": [
    {
     "data": {
      "text/plain": [
       "(14, 5)"
      ]
     },
     "execution_count": 3,
     "metadata": {},
     "output_type": "execute_result"
    }
   ],
   "source": [
    "# Shape of the data\n",
    "\n",
    "df.shape"
   ]
  },
  {
   "cell_type": "code",
   "execution_count": 4,
   "metadata": {},
   "outputs": [
    {
     "data": {
      "text/html": [
       "<div>\n",
       "<style scoped>\n",
       "    .dataframe tbody tr th:only-of-type {\n",
       "        vertical-align: middle;\n",
       "    }\n",
       "\n",
       "    .dataframe tbody tr th {\n",
       "        vertical-align: top;\n",
       "    }\n",
       "\n",
       "    .dataframe thead th {\n",
       "        text-align: right;\n",
       "    }\n",
       "</style>\n",
       "<table border=\"1\" class=\"dataframe\">\n",
       "  <thead>\n",
       "    <tr style=\"text-align: right;\">\n",
       "      <th></th>\n",
       "      <th>Outlook</th>\n",
       "      <th>Temp.</th>\n",
       "      <th>Humidity</th>\n",
       "      <th>Windy</th>\n",
       "      <th>Play</th>\n",
       "    </tr>\n",
       "  </thead>\n",
       "  <tbody>\n",
       "    <tr>\n",
       "      <th>count</th>\n",
       "      <td>14</td>\n",
       "      <td>14</td>\n",
       "      <td>14</td>\n",
       "      <td>14</td>\n",
       "      <td>14</td>\n",
       "    </tr>\n",
       "    <tr>\n",
       "      <th>unique</th>\n",
       "      <td>3</td>\n",
       "      <td>3</td>\n",
       "      <td>2</td>\n",
       "      <td>2</td>\n",
       "      <td>2</td>\n",
       "    </tr>\n",
       "    <tr>\n",
       "      <th>top</th>\n",
       "      <td>rainy</td>\n",
       "      <td>mild</td>\n",
       "      <td>high</td>\n",
       "      <td>false</td>\n",
       "      <td>yes</td>\n",
       "    </tr>\n",
       "    <tr>\n",
       "      <th>freq</th>\n",
       "      <td>5</td>\n",
       "      <td>6</td>\n",
       "      <td>7</td>\n",
       "      <td>8</td>\n",
       "      <td>9</td>\n",
       "    </tr>\n",
       "  </tbody>\n",
       "</table>\n",
       "</div>"
      ],
      "text/plain": [
       "       Outlook Temp. Humidity   Windy Play\n",
       "count       14    14       14      14   14\n",
       "unique       3     3        2       2    2\n",
       "top      rainy  mild     high  false   yes\n",
       "freq         5     6        7       8    9"
      ]
     },
     "execution_count": 4,
     "metadata": {},
     "output_type": "execute_result"
    }
   ],
   "source": [
    "# Summary statistics of data\n",
    "\n",
    "df.describe()"
   ]
  },
  {
   "cell_type": "code",
   "execution_count": 5,
   "metadata": {},
   "outputs": [],
   "source": [
    "# Function to calculate prior for Naive Bayes\n",
    "\n",
    "def calculate_priors(target):\n",
    "    ''' Input: target column\n",
    "        Output: Dictionary containing prior likelihood with keys\n",
    "                and values as probabilities of each class'''\n",
    "    prior_dict = {}\n",
    "    for value in target.values:\n",
    "        if value not in prior_dict.keys():\n",
    "            prior_dict[value] = 1\n",
    "        else:\n",
    "            prior_dict[value] += 1\n",
    "    num = len(target)\n",
    "    for key, value in prior_dict.items():\n",
    "        prior_dict[key] = value / num\n",
    "    return prior_dict"
   ]
  },
  {
   "cell_type": "code",
   "execution_count": 6,
   "metadata": {},
   "outputs": [],
   "source": [
    "# Function to calculate likelihood with Laplace transformation\n",
    "\n",
    "def calculate_likelihood(data, column):\n",
    "    ''' Input: a) data i.e. our dataset\n",
    "               b) column i.e. our feature of interest to calculate likelihood\n",
    "        Output: Dictionary containing likelihoods for every feature with keys\n",
    "                as likelihood class and values as likelihoods'''\n",
    "    target = df.iloc[:,-1].values\n",
    "    target_unique = np.unique(target)\n",
    "    feature = df[column].values\n",
    "    list_of_lists = []\n",
    "    for i in target_unique:\n",
    "        class_list = []\n",
    "        for j in range(len(feature)):\n",
    "            if target[j] == i:\n",
    "                class_list.append(feature[j] + '/' + i)\n",
    "        list_of_lists.append(class_list)\n",
    "    empty_dict = {}\n",
    "    for each_list in list_of_lists:\n",
    "        d1 = Counter(each_list)\n",
    "        num = sum(d1.values())\n",
    "        for key, value in d1.items():\n",
    "            d1[key] = (value + 1) / (num + len(data) + 1)            # Laplace smoothing\n",
    "        for key, value in d1.items():\n",
    "            empty_dict[key] = value\n",
    "    return empty_dict    "
   ]
  },
  {
   "cell_type": "code",
   "execution_count": 7,
   "metadata": {},
   "outputs": [],
   "source": [
    "# Function to calculate posterior likelihood \n",
    "\n",
    "def calculate_posterior(data, outlook, temp, humidity, windy, string_1, string_2):\n",
    "    ''' Input: data i.e.our dataset\n",
    "               outlook i.e. our outlook class\n",
    "               temp i.e.our temperature class\n",
    "               humidity i.e. our humidity class\n",
    "               windy i.e. our windy class\n",
    "               string_1 i.e. target class 1\n",
    "               string_2 i.e. target class 2\n",
    "        Output: Posterior probabilities of \"yes or \"no\" given information'''\n",
    "    columns = data.columns\n",
    "    priors = calculate_priors(data.iloc[:,-1])\n",
    "    prior_1 = priors[string_1]\n",
    "    prior_2 = priors[string_2]\n",
    "    likelihoods = []\n",
    "    for col in columns:\n",
    "        col_likelihood = calculate_likelihood(data, col)\n",
    "        likelihoods.append(col_likelihood)\n",
    "    part_1 = prior_1 * likelihoods[0][outlook + '/' + string_1] * likelihoods[1][temp + '/' + string_1] * likelihoods[2][humidity + '/' + string_1] * likelihoods[3][windy + '/' + string_1] \n",
    "    part_2 = prior_2 * likelihoods[0][outlook + '/' + string_2] * likelihoods[1][temp + '/' + string_2] * likelihoods[2][humidity + '/' + string_2] * likelihoods[3][windy + '/' + string_2]\n",
    "    if (part_1 / (part_1 + part_2)) > (part_2 / (part_1 + part_2)):\n",
    "        return string_1\n",
    "    else:\n",
    "        return string_2"
   ]
  },
  {
   "cell_type": "code",
   "execution_count": 8,
   "metadata": {},
   "outputs": [
    {
     "data": {
      "text/plain": [
       "'no'"
      ]
     },
     "execution_count": 8,
     "metadata": {},
     "output_type": "execute_result"
    }
   ],
   "source": [
    "# Example\n",
    "\n",
    "calculate_posterior(df, 'sunny', 'mild', 'high', 'true ', 'no', 'yes')"
   ]
  },
  {
   "cell_type": "code",
   "execution_count": null,
   "metadata": {},
   "outputs": [],
   "source": []
  }
 ],
 "metadata": {
  "kernelspec": {
   "display_name": "Python 3",
   "language": "python",
   "name": "python3"
  },
  "language_info": {
   "codemirror_mode": {
    "name": "ipython",
    "version": 3
   },
   "file_extension": ".py",
   "mimetype": "text/x-python",
   "name": "python",
   "nbconvert_exporter": "python",
   "pygments_lexer": "ipython3",
   "version": "3.6.5"
  }
 },
 "nbformat": 4,
 "nbformat_minor": 2
}
